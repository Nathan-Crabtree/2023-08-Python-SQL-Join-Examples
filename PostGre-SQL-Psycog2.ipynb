{
 "cells": [
  {
   "cell_type": "code",
   "execution_count": 1,
   "id": "6dc4123c",
   "metadata": {},
   "outputs": [],
   "source": [
    "#guide here: postgresqltutorial.com/postgresql-python/connect/\n",
    "import psycopg2 as pc"
   ]
  },
  {
   "cell_type": "code",
   "execution_count": 2,
   "id": "25da4350",
   "metadata": {},
   "outputs": [],
   "source": [
    "conn = pc.connect(\"dbname=book_example user=nathan password=matrix86\")\n"
   ]
  },
  {
   "cell_type": "code",
   "execution_count": 3,
   "id": "5fcf3d47",
   "metadata": {},
   "outputs": [
    {
     "name": "stdout",
     "output_type": "stream",
     "text": [
      "PostgreSQL database version:\n",
      "('PostgreSQL 14.6 (Homebrew) on x86_64-apple-darwin21.6.0, compiled by Apple clang version 14.0.0 (clang-1400.0.29.202), 64-bit',)\n"
     ]
    }
   ],
   "source": [
    "# create a cursor\n",
    "cur = conn.cursor()\n",
    "print('PostgreSQL database version:')\n",
    "cur.execute('SELECT version()')\n",
    "db_version = cur.fetchone()\n",
    "print(db_version)"
   ]
  },
  {
   "cell_type": "code",
   "execution_count": 4,
   "id": "4bef3474",
   "metadata": {},
   "outputs": [],
   "source": [
    "query = \"DROP TABLE IF EXISTS books\"\n",
    "cur.execute(query)\n",
    "query = \"DROP TABLE IF EXISTS authors\"\n",
    "cur.execute(query)\n",
    "query = \"DROP TABLE IF EXISTS editors\"\n",
    "cur.execute(query)\n",
    "query = \"DROP TABLE IF EXISTS translators\"\n",
    "cur.execute(query)\n"
   ]
  },
  {
   "cell_type": "code",
   "execution_count": 5,
   "id": "7113b8ad",
   "metadata": {},
   "outputs": [],
   "source": [
    "# close the communication with the PostgreSQL\n"
   ]
  },
  {
   "cell_type": "code",
   "execution_count": 6,
   "id": "4c9e4b5c",
   "metadata": {},
   "outputs": [],
   "source": [
    "#multi-line string\n",
    "query = \"\"\"CREATE TABLE authors (\n",
    "    id SERIAL PRIMARY KEY,\n",
    "    first_name VARCHAR(255) NOT NULL,\n",
    "    last_name VARCHAR(255) NOT NULL\n",
    "\n",
    ")\"\"\"\n",
    "cur.execute(query)\n",
    "\n",
    "query = \"\"\"CREATE TABLE editors (\n",
    "    id SERIAL PRIMARY KEY,\n",
    "    first_name VARCHAR(255) NOT NULL,\n",
    "    last_name VARCHAR(255) NOT NULL\n",
    ")\"\"\"\n",
    "cur.execute(query)\n",
    "\n",
    "query = \"\"\"CREATE TABLE translators (\n",
    "    id SERIAL PRIMARY KEY,\n",
    "    first_name VARCHAR(255) NOT NULL,\n",
    "    last_name VARCHAR(255) NOT NULL\n",
    "\n",
    ")\"\"\"\n",
    "cur.execute(query)\n",
    "\n",
    "query = \"\"\"CREATE TABLE books (\n",
    "    id SERIAL PRIMARY KEY,\n",
    "    title VARCHAR(255) NOT NULL,\n",
    "    type VARCHAR(255) NOT NULL,\n",
    "    author_id INTEGER NOT NULL,\n",
    "    editor_id INTEGER NOT NULL,\n",
    "    translator_id INTEGER NOT NULL,\n",
    "    FOREIGN KEY (author_id)\n",
    "        REFERENCES authors (id),\n",
    "    FOREIGN KEY (editor_id)\n",
    "        REFERENCES editors (id),\n",
    "    FOREIGN KEY (translator_id)\n",
    "        REFERENCES translators (id)\n",
    ")\"\"\"\n",
    "cur.execute(query)"
   ]
  },
  {
   "cell_type": "code",
   "execution_count": 7,
   "id": "b6221adb",
   "metadata": {},
   "outputs": [],
   "source": [
    "query = \"\"\"INSERT INTO authors (id, first_name, last_name) VALUES\n",
    "    ('11', 'Nathan', 'Crabtree'),\n",
    "    ('12', 'Zoe', 'Calloway')\"\"\"\n",
    "cur.execute(query)"
   ]
  },
  {
   "cell_type": "code",
   "execution_count": 8,
   "id": "47dd5218",
   "metadata": {},
   "outputs": [],
   "source": [
    "query = \"\"\"INSERT INTO editors (id, first_name, last_name) VALUES\n",
    "    ('21', 'Jamie', 'Calloway'),\n",
    "    ('22', Mark', 'Crabtree')\"\"\"\n",
    "cur.execute(query)\n",
    "query = \"\"\"INSERT INTO translators (first_name, last_name) VALUES\n",
    "    ('31', 'Ezekiel', 'Sanchez'),\n",
    "    ('32', 'Henry', 'Ferguson')\"\"\"\n",
    "cur.execute(query)"
   ]
  },
  {
   "cell_type": "code",
   "execution_count": 9,
   "id": "77f96684",
   "metadata": {},
   "outputs": [],
   "source": [
    "query = \"\"\"INSERT INTO books (title, type, author_id, editor_id, translator_id) VALUES\n",
    "    ('A Book', 'Fiction', 11, 2, 2),\n",
    "    ('Another Book', 'Science', 12, 1, 1)\"\"\"\n",
    "cur.execute(query)"
   ]
  },
  {
   "cell_type": "code",
   "execution_count": 10,
   "id": "038336db",
   "metadata": {},
   "outputs": [
    {
     "name": "stdout",
     "output_type": "stream",
     "text": [
      "Id =  1\n",
      "Title =  A Book\n",
      "Type  =  Fiction \n",
      "\n",
      "Translater  =  Ferguson \n",
      "\n",
      "Id =  2\n",
      "Title =  Another Book\n",
      "Type  =  Science \n",
      "\n",
      "Translater  =  Sanchez \n",
      "\n"
     ]
    }
   ],
   "source": [
    "query = \"\"\"SELECT b.id, b.title, b.type, t.last_name AS translator\n",
    "FROM books b\n",
    "JOIN translators t\n",
    "ON b.translator_id = t.id\n",
    "ORDER BY b.id;\"\"\"\n",
    "cur.execute(query)\n",
    "rows = cur.fetchall()\n",
    "for row in rows:\n",
    "    print(\"Id = \", row[0], )\n",
    "    print(\"Title = \", row[1])\n",
    "    print(\"Type  = \", row[2], \"\\n\")\n",
    "    print(\"Translater  = \", row[3], \"\\n\")\n",
    "\n"
   ]
  },
  {
   "cell_type": "code",
   "execution_count": 11,
   "id": "5b93c3e0",
   "metadata": {},
   "outputs": [
    {
     "name": "stdout",
     "output_type": "stream",
     "text": [
      "Id =  1\n",
      "Title =  A Book\n",
      "First Name  =  Nathan \n",
      "\n",
      "Last Name  =  Crabtree \n",
      "\n",
      "Id =  2\n",
      "Title =  Another Book\n",
      "First Name  =  Zoe \n",
      "\n",
      "Last Name  =  Calloway \n",
      "\n"
     ]
    }
   ],
   "source": [
    "query = \"\"\"SELECT b.id, b.title, a.first_name, a.last_name\n",
    "FROM books b\n",
    "INNER JOIN authors a\n",
    "ON b.author_id = a.id\n",
    "ORDER BY b.id;\"\"\"\n",
    "cur.execute(query)\n",
    "rows = cur.fetchall()\n",
    "for row in rows:\n",
    "    print(\"Id = \", row[0], )\n",
    "    print(\"Title = \", row[1])\n",
    "    print(\"First Name  = \", row[2], \"\\n\")\n",
    "    print(\"Last Name  = \", row[3], \"\\n\")"
   ]
  },
  {
   "cell_type": "code",
   "execution_count": 12,
   "id": "fe054944",
   "metadata": {},
   "outputs": [
    {
     "name": "stdout",
     "output_type": "stream",
     "text": [
      "Id =  1\n",
      "Title =  A Book\n",
      "Type  =  Fiction \n",
      "\n",
      "Author  =  Crabtree \n",
      "\n",
      "Translator  =  Ferguson \n",
      "\n",
      "Id =  2\n",
      "Title =  Another Book\n",
      "Type  =  Science \n",
      "\n",
      "Author  =  Calloway \n",
      "\n",
      "Translator  =  Sanchez \n",
      "\n"
     ]
    }
   ],
   "source": [
    "query = \"\"\"SELECT b.id, b.title, b.type, a.last_name AS author,\n",
    " t.last_name AS translator\n",
    "FROM books b\n",
    "LEFT JOIN authors a\n",
    "ON b.author_id = a.id\n",
    "LEFT JOIN translators t\n",
    "ON b.translator_id = t.id\n",
    "ORDER BY b.id;\"\"\"\n",
    "cur.execute(query)\n",
    "rows = cur.fetchall()\n",
    "for row in rows:\n",
    "    print(\"Id = \", row[0], )\n",
    "    print(\"Title = \", row[1])\n",
    "    print(\"Type  = \", row[2], \"\\n\")\n",
    "    print(\"Author  = \", row[3], \"\\n\")\n",
    "    print(\"Translator  = \", row[4], \"\\n\")\n"
   ]
  },
  {
   "cell_type": "code",
   "execution_count": 13,
   "id": "59a61c57",
   "metadata": {},
   "outputs": [
    {
     "name": "stdout",
     "output_type": "stream",
     "text": [
      "Id =  1\n",
      "Title =  A Book\n",
      "Editor  =  Crabtree \n",
      "\n",
      "Id =  2\n",
      "Title =  Another Book\n",
      "Editor  =  Calloway \n",
      "\n"
     ]
    }
   ],
   "source": [
    "query = \"\"\"SELECT b.id, b.title, e.last_name AS editor\n",
    "FROM books b\n",
    "LEFT JOIN editors e\n",
    "ON b.editor_id = e.id\n",
    "ORDER BY b.id;\"\"\"\n",
    "cur.execute(query)\n",
    "rows = cur.fetchall()\n",
    "for row in rows:\n",
    "    print(\"Id = \", row[0], )\n",
    "    print(\"Title = \", row[1])\n",
    "    print(\"Editor  = \", row[2], \"\\n\")"
   ]
  },
  {
   "cell_type": "code",
   "execution_count": 14,
   "id": "c3a50789",
   "metadata": {},
   "outputs": [
    {
     "name": "stdout",
     "output_type": "stream",
     "text": [
      "Id =  1\n",
      "Title =  A Book\n",
      "Editor  =  Crabtree \n",
      "\n",
      "Id =  2\n",
      "Title =  Another Book\n",
      "Editor  =  Calloway \n",
      "\n"
     ]
    }
   ],
   "source": [
    "query = \"\"\"SELECT b.id, b.title, e.last_name AS editor\n",
    "FROM books b\n",
    "RIGHT JOIN editors e\n",
    "ON b.editor_id = e.id\n",
    "ORDER BY b.id;\"\"\"\n",
    "cur.execute(query)\n",
    "rows = cur.fetchall()\n",
    "for row in rows:\n",
    "    print(\"Id = \", row[0], )\n",
    "    print(\"Title = \", row[1])\n",
    "    print(\"Editor  = \", row[2], \"\\n\")"
   ]
  },
  {
   "cell_type": "code",
   "execution_count": 15,
   "id": "ce051919",
   "metadata": {},
   "outputs": [
    {
     "name": "stdout",
     "output_type": "stream",
     "text": [
      "Id =  1\n",
      "Title =  A Book\n",
      "Editor  =  Crabtree \n",
      "\n",
      "Id =  2\n",
      "Title =  Another Book\n",
      "Editor  =  Calloway \n",
      "\n"
     ]
    }
   ],
   "source": [
    "query = \"\"\"SELECT b.id, b.title, e.last_name AS editor\n",
    "FROM books b\n",
    "FULL JOIN editors e\n",
    "ON b.editor_id = e.id\n",
    "ORDER BY b.id;\"\"\"\n",
    "cur.execute(query)\n",
    "rows = cur.fetchall()\n",
    "for row in rows:\n",
    "    print(\"Id = \", row[0], )\n",
    "    print(\"Title = \", row[1])\n",
    "    print(\"Editor  = \", row[2], \"\\n\")"
   ]
  },
  {
   "cell_type": "code",
   "execution_count": 16,
   "id": "8274abb2",
   "metadata": {},
   "outputs": [],
   "source": [
    "cur.close()"
   ]
  },
  {
   "cell_type": "code",
   "execution_count": 17,
   "id": "53f274d1",
   "metadata": {},
   "outputs": [],
   "source": [
    "#commit the changes\n",
    "conn.commit()"
   ]
  }
 ],
 "metadata": {
  "kernelspec": {
   "display_name": "Python 3 (ipykernel)",
   "language": "python",
   "name": "python3"
  },
  "language_info": {
   "codemirror_mode": {
    "name": "ipython",
    "version": 3
   },
   "file_extension": ".py",
   "mimetype": "text/x-python",
   "name": "python",
   "nbconvert_exporter": "python",
   "pygments_lexer": "ipython3",
   "version": "3.9.7"
  }
 },
 "nbformat": 4,
 "nbformat_minor": 5
}
